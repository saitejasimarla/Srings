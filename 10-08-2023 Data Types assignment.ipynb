{
 "cells": [
  {
   "cell_type": "code",
   "execution_count": 1,
   "id": "ee85e602",
   "metadata": {},
   "outputs": [
    {
     "name": "stdout",
     "output_type": "stream",
     "text": [
      "DATA SCIENCE\n"
     ]
    }
   ],
   "source": [
    "### String data types\n",
    "\n",
    "x = 'Data Science'    # This is in different  memory location \n",
    "print(x.upper())      # Using x.upper() changes the lower case to higher case and output is in diff memory location."
   ]
  },
  {
   "cell_type": "code",
   "execution_count": 2,
   "id": "8940e4b7",
   "metadata": {},
   "outputs": [
    {
     "name": "stdout",
     "output_type": "stream",
     "text": [
      "Data Science is leadning subject\n",
      "Deep is a set of Mechine learning\n",
      "Mechine Learning is a set of Artificial Intelligence\n"
     ]
    }
   ],
   "source": [
    "a = 'Data Science is leadning subject'\n",
    "b = \"Deep is a set of Mechine learning\"\n",
    "c = '''Mechine Learning is a set of Artificial Intelligence'''\n",
    "print(a, b, c, sep = '\\n')  # sep is used to saparate the string, and '\\n' is used to change the line in the out"
   ]
  },
  {
   "cell_type": "code",
   "execution_count": 6,
   "id": "30c233fe",
   "metadata": {},
   "outputs": [
    {
     "name": "stdout",
     "output_type": "stream",
     "text": [
      "e\n",
      "Data Science is leadning \n",
      "Scietcej\n",
      "tebsgi\n"
     ]
    }
   ],
   "source": [
    "### Indexing and slicing.\n",
    "x = 'Data Science is leadning subject'\n",
    "print(x[5:9][::-30])  ##[::-1] will change the +ve to -ve / reverse the string .\n",
    "print(x[-32:-7])\n",
    "\n",
    "#  a and b are the slices the x. And combining the a and b. the output will print in one line.\n",
    "a = x[5:9]\n",
    "b = x[-1:-5:-1]\n",
    "print(a+b)\n",
    "\n",
    "# collect the data from there index number.\n",
    "\n",
    "print(x[:20:-2])"
   ]
  },
  {
   "cell_type": "code",
   "execution_count": 9,
   "id": "e90c2de7",
   "metadata": {},
   "outputs": [
    {
     "name": "stdout",
     "output_type": "stream",
     "text": [
      "Data Science Data Science \n",
      "Data Science Data Science Data Science \n"
     ]
    }
   ],
   "source": [
    "# String concatenation\n",
    "\n",
    "\n",
    "x = 'Data Science '\n",
    "print(x+x)  # add the x two times \n",
    "print(x*3)  # multiply the x, 5 times"
   ]
  },
  {
   "cell_type": "code",
   "execution_count": 10,
   "id": "c9496b0d",
   "metadata": {},
   "outputs": [
    {
     "name": "stdout",
     "output_type": "stream",
     "text": [
      "True\n",
      "False\n"
     ]
    }
   ],
   "source": [
    "# membership operator \n",
    "x = 'Deep is a set of Mechine learning'\n",
    "print('Deep' in x)\n",
    "print('Set' in x)  # returns the false because s is teh small letter."
   ]
  },
  {
   "cell_type": "code",
   "execution_count": 34,
   "id": "dbdc6a80",
   "metadata": {},
   "outputs": [
    {
     "name": "stdout",
     "output_type": "stream",
     "text": [
      "Computer Science\n"
     ]
    }
   ],
   "source": [
    "# replace function\n",
    "\n",
    "x = 'Data Science'\n",
    "print(x.replace('Data','Computer'))"
   ]
  },
  {
   "cell_type": "code",
   "execution_count": 18,
   "id": "bf8ca79c",
   "metadata": {},
   "outputs": [
    {
     "name": "stdout",
     "output_type": "stream",
     "text": [
      "DEEP IS A SET OF MECHINE LEARNING\n",
      "deep is a set of mechine learning\n"
     ]
    }
   ],
   "source": [
    "# upper and lower cases\n",
    "\n",
    "\n",
    "x = 'Deep is a set of Mechine learning'\n",
    "print(x.upper())   # upper() function changes lower case to upper  case.\n",
    "\n",
    "y = 'DEEP IS A SET OF MECHINE LEARNING'\n",
    "print(y.lower())   # lower() function changes upper case to lower case."
   ]
  },
  {
   "cell_type": "code",
   "execution_count": 19,
   "id": "3b1591f1",
   "metadata": {},
   "outputs": [
    {
     "name": "stdout",
     "output_type": "stream",
     "text": [
      "Data Science Is  |||Leadning Subject\n"
     ]
    }
   ],
   "source": [
    "# title function\n",
    "\n",
    "x = 'data Science is  |||leadning subject'\n",
    "print(x.title())    # by title() function , every first latter in word changes to upper case in sentence  "
   ]
  },
  {
   "cell_type": "code",
   "execution_count": 20,
   "id": "92964c51",
   "metadata": {},
   "outputs": [
    {
     "data": {
      "text/plain": [
       "'Y'"
      ]
     },
     "execution_count": 20,
     "metadata": {},
     "output_type": "execute_result"
    }
   ],
   "source": [
    "print(chr(ord('e')-12))  # ord() is function and is a asky key, chr:- is a character"
   ]
  },
  {
   "cell_type": "code",
   "execution_count": 31,
   "id": "23905690",
   "metadata": {},
   "outputs": [
    {
     "name": "stdout",
     "output_type": "stream",
     "text": [
      "124 37 38 115\n"
     ]
    }
   ],
   "source": [
    "print(ord('|'), ord('%'), ord('&'), ord('s'))"
   ]
  },
  {
   "cell_type": "code",
   "execution_count": 22,
   "id": "47f57a6c",
   "metadata": {},
   "outputs": [
    {
     "data": {
      "text/plain": [
       "'dEEP IS A SET OF mECHINE LEARNING '"
      ]
     },
     "execution_count": 22,
     "metadata": {},
     "output_type": "execute_result"
    }
   ],
   "source": [
    "#upper case to lower case\n",
    "\n",
    "s = 'Deep is a set of Mechine learning '\n",
    "print(s.swapcase())   # swapcase conver upper to lower and lower to upper case"
   ]
  },
  {
   "cell_type": "code",
   "execution_count": 25,
   "id": "0ed8628b",
   "metadata": {},
   "outputs": [
    {
     "name": "stdout",
     "output_type": "stream",
     "text": [
      "ü is a german char ü is a german char\n"
     ]
    }
   ],
   "source": [
    "s = 'ü is a german char'\n",
    "print(s.lower(), s.casefold())"
   ]
  },
  {
   "cell_type": "code",
   "execution_count": 26,
   "id": "9fa3b842",
   "metadata": {},
   "outputs": [
    {
     "name": "stdout",
     "output_type": "stream",
     "text": [
      "Computer Science\n"
     ]
    }
   ],
   "source": [
    "# replace \n",
    "\n",
    "\n",
    "x = 'Data Science'\n",
    "print(x.replace('Data','Computer'))  # replace the particular value by using replace() function"
   ]
  },
  {
   "cell_type": "code",
   "execution_count": 30,
   "id": "f493e602",
   "metadata": {},
   "outputs": [
    {
     "name": "stdout",
     "output_type": "stream",
     "text": [
      "data science\n",
      "Data science\n"
     ]
    }
   ],
   "source": [
    "# capitalization\n",
    "\n",
    "x = 'data science'\n",
    "y = x.capitalize()         #the first letter turns upper case.\n",
    "print(x, y, sep = '\\n')  "
   ]
  },
  {
   "cell_type": "code",
   "execution_count": 33,
   "id": "91fc1bae",
   "metadata": {},
   "outputs": [
    {
     "name": "stdout",
     "output_type": "stream",
     "text": [
      "deep is a set of Mechine learning\n",
      "Deep is a set of mechine learning\n"
     ]
    }
   ],
   "source": [
    "s = '''deep is a set of Mechine learning'''\n",
    "sc = s.capitalize()\n",
    "print(s, sc, sep = '\\n') #the first letter turns upper case."
   ]
  }
 ],
 "metadata": {
  "kernelspec": {
   "display_name": "Python 3 (ipykernel)",
   "language": "python",
   "name": "python3"
  },
  "language_info": {
   "codemirror_mode": {
    "name": "ipython",
    "version": 3
   },
   "file_extension": ".py",
   "mimetype": "text/x-python",
   "name": "python",
   "nbconvert_exporter": "python",
   "pygments_lexer": "ipython3",
   "version": "3.11.3"
  }
 },
 "nbformat": 4,
 "nbformat_minor": 5
}
